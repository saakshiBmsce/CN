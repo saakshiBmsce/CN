{
 "cells": [
  {
   "cell_type": "code",
   "execution_count": 80,
   "metadata": {},
   "outputs": [],
   "source": [
    "import random"
   ]
  },
  {
   "cell_type": "code",
   "execution_count": 81,
   "metadata": {},
   "outputs": [],
   "source": [
    "def xor(a,b):\n",
    "    ans=[]\n",
    "    for i in range(len(a)):\n",
    "        if a[i]==b[i]:\n",
    "            ans.append('0')\n",
    "        else:\n",
    "            ans.append('1')\n",
    "    return ''.join(ans)"
   ]
  },
  {
   "cell_type": "code",
   "execution_count": 82,
   "metadata": {},
   "outputs": [],
   "source": [
    "def poly_to_string(poly):\n",
    "    max_idx=poly[0]\n",
    "    lst=['0']*(max_idx+1)\n",
    "    for i in poly:\n",
    "        lst[i]='1'\n",
    "    return (''.join(lst))[::-1]"
   ]
  },
  {
   "cell_type": "code",
   "execution_count": 84,
   "metadata": {},
   "outputs": [],
   "source": [
    "def mod2div(divident,divisor):\n",
    "    pick=len(divisor)\n",
    "    tmp=divident[0:pick]\n",
    "    while pick < len(divident):\n",
    "        print(tmp)\n",
    "        if tmp[0]=='1':\n",
    "            tmp=xor(tmp,divisor)+divident[pick]\n",
    "            tmp=tmp[1:]\n",
    "        else:\n",
    "            tmp=xor(tmp,'0'*pick)+divident[pick]\n",
    "            tmp=tmp[1:]\n",
    "        pick+=1\n",
    "    if tmp[0]=='1':\n",
    "        tmp=xor(tmp,divisor)\n",
    "    else:\n",
    "        tmp=xor(tmp,'0'*pick)\n",
    "    tmp=tmp[1:]\n",
    "    checkword=tmp\n",
    "    return checkword"
   ]
  },
  {
   "cell_type": "code",
   "execution_count": 85,
   "metadata": {},
   "outputs": [],
   "source": [
    "def encodeData(data,key,encoded_len):\n",
    "    l_key=len(key)\n",
    "    appended_data=data+'0'*(encoded_len-l_key)\n",
    "    remainder=mod2div(appended_data,key)\n",
    "    codeword=data+remainder\n",
    "    return codeword"
   ]
  },
  {
   "cell_type": "code",
   "execution_count": 86,
   "metadata": {},
   "outputs": [],
   "source": [
    "def decodeData(codeword,key):\n",
    "    l_key=len(key)\n",
    "    remainder=mod2div(codeword,key)\n",
    "    return remainder"
   ]
  },
  {
   "cell_type": "code",
   "execution_count": 95,
   "metadata": {},
   "outputs": [],
   "source": [
    "def insertError(encodedData):\n",
    "    choice=random.choice([0,1])\n",
    "    if choice==0:\n",
    "        return encodedData\n",
    "    else:\n",
    "        choice_idx=random.randrange(0,len(encodedData))\n",
    "        err_val=''\n",
    "        if encodedData[choice_idx]=='0':\n",
    "            err_val=\"1\"\n",
    "        else:\n",
    "            err_val=\"0\"\n",
    "        newEncodedData=encodedData[:choice_idx] + err_val + encodedData[choice_idx+1:]\n",
    "        \n",
    "        return newEncodedData"
   ]
  },
  {
   "cell_type": "code",
   "execution_count": 118,
   "metadata": {},
   "outputs": [],
   "source": [
    "def CRC():\n",
    "    n = int(input(\"Enter number of elements : \")) \n",
    "    poly_data = list(map(int,input(\"\\nEnter the polynomial : \").strip().split()))[:n] \n",
    "    data=poly_to_string(poly_data)\n",
    "    key=\"1011\"\n",
    "    code_word_len=7\n",
    "    encodedData=encodeData(data,key,code_word_len)\n",
    "    print(\"codeword: \",encodedData)\n",
    "    \n",
    "    encodedData=insertError(encodedData)\n",
    "    \n",
    "    print(\"recieved codeword: \",encodedData)\n",
    "    decoded_data=decodeData(encodedData,key)\n",
    "    check_zero='0'*(code_word_len-len(key))\n",
    "    if decoded_data==check_zero:\n",
    "        print(\"Transmitted without error!!\")\n",
    "    else:\n",
    "        print(\"Tranmission aborted due to error detection\")"
   ]
  },
  {
   "cell_type": "code",
   "execution_count": 120,
   "metadata": {},
   "outputs": [
    {
     "name": "stdout",
     "output_type": "stream",
     "text": [
      "Enter number of elements : 2\n",
      "\n",
      "Enter the polynomial : 3 0\n",
      "1001\n",
      "0100\n",
      "1000\n",
      "codeword:  1001110\n",
      "recieved codeword:  1011110\n",
      "1011\n",
      "0001\n",
      "0011\n",
      "Tranmission aborted due to error detection\n"
     ]
    }
   ],
   "source": [
    "CRC()"
   ]
  },
  {
   "cell_type": "code",
   "execution_count": 117,
   "metadata": {},
   "outputs": [
    {
     "name": "stdout",
     "output_type": "stream",
     "text": [
      "Enter number of elements : 2\n",
      "\n",
      "Enter the polynomial : 3 0\n",
      "1001\n",
      "0100\n",
      "1000\n",
      "codeword:  1001110\n",
      "recieved codeword:  1001110\n",
      "1001\n",
      "0101\n",
      "1011\n",
      "Transmitted without error!!\n"
     ]
    }
   ],
   "source": [
    "CRC()"
   ]
  }
 ],
 "metadata": {
  "kernelspec": {
   "display_name": "Python 3",
   "language": "python",
   "name": "python3"
  },
  "language_info": {
   "codemirror_mode": {
    "name": "ipython",
    "version": 3
   },
   "file_extension": ".py",
   "mimetype": "text/x-python",
   "name": "python",
   "nbconvert_exporter": "python",
   "pygments_lexer": "ipython3",
   "version": "3.7.4"
  }
 },
 "nbformat": 4,
 "nbformat_minor": 2
}
